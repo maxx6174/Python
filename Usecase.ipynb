{
  "nbformat": 4,
  "nbformat_minor": 0,
  "metadata": {
    "colab": {
      "provenance": [],
      "authorship_tag": "ABX9TyMfFVIlMV8Er9iTXTW/fMSD",
      "include_colab_link": true
    },
    "kernelspec": {
      "name": "python3",
      "display_name": "Python 3"
    },
    "language_info": {
      "name": "python"
    }
  },
  "cells": [
    {
      "cell_type": "markdown",
      "metadata": {
        "id": "view-in-github",
        "colab_type": "text"
      },
      "source": [
        "<a href=\"https://colab.research.google.com/github/maxx6174/Python/blob/main/Usecase.ipynb\" target=\"_parent\"><img src=\"https://colab.research.google.com/assets/colab-badge.svg\" alt=\"Open In Colab\"/></a>"
      ]
    },
    {
      "cell_type": "code",
      "execution_count": null,
      "metadata": {
        "id": "ks4_qw-T63ya"
      },
      "outputs": [],
      "source": [
        "import numpy as np\n",
        "import matplotlib.pyplot as plt\n",
        "data = np.random.normal(0, 1, 1000)\n",
        "plt.hist(data, bins=30, density=True, alpha=0.6, color='skyblue', edgecolor='black')\n",
        "xmin, xmax = plt.xlim()\n",
        "x = np.linspace(xmin, xmax, 100)\n",
        "p = 1/(np.sqrt(2*np.pi)) * np.exp(-0.5 * x**2)\n",
        "plt.plot(x, p, 'r', linewidth=2)\n",
        "plt.title(\"Plotting Probabilities using Matplotlib\")\n",
        "plt.xlabel(\"Value\")\n",
        "plt.ylabel(\"Probability Density\")\n",
        "plt.grid(True)\n",
        "plt.show()"
      ]
    }
  ]
}